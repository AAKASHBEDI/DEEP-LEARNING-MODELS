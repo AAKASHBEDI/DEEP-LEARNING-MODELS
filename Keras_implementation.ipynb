{
  "nbformat": 4,
  "nbformat_minor": 0,
  "metadata": {
    "colab": {
      "name": "Keras_implementation.ipynb",
      "provenance": []
    },
    "kernelspec": {
      "name": "python3",
      "display_name": "Python 3"
    },
    "language_info": {
      "name": "python"
    },
    "accelerator": "GPU"
  },
  "cells": [
    {
      "cell_type": "code",
      "metadata": {
        "id": "mIFQ5_bjSJXc"
      },
      "source": [
        "import os\n",
        "root=\"/content/drive/MyDrive/Colab Notebooks\""
      ],
      "execution_count": 1,
      "outputs": []
    },
    {
      "cell_type": "code",
      "metadata": {
        "id": "vVJZMX8BSjxN"
      },
      "source": [
        "os.chdir(root)"
      ],
      "execution_count": 2,
      "outputs": []
    },
    {
      "cell_type": "code",
      "metadata": {
        "colab": {
          "base_uri": "https://localhost:8080/",
          "height": 36
        },
        "id": "phdJyVjTSv1k",
        "outputId": "6657e3e4-8b11-41b3-b0ab-6544dcbdd064"
      },
      "source": [
        "os.getcwd()"
      ],
      "execution_count": 3,
      "outputs": [
        {
          "output_type": "execute_result",
          "data": {
            "application/vnd.google.colaboratory.intrinsic+json": {
              "type": "string"
            },
            "text/plain": [
              "'/content/drive/MyDrive/Colab Notebooks'"
            ]
          },
          "metadata": {
            "tags": []
          },
          "execution_count": 3
        }
      ]
    },
    {
      "cell_type": "code",
      "metadata": {
        "colab": {
          "base_uri": "https://localhost:8080/",
          "height": 36
        },
        "id": "H4ZYX_66S02o",
        "outputId": "650bec84-1efb-4c6b-bdf3-cf4802e9a677"
      },
      "source": [
        "import tensorflow as tf\n",
        "tf.__version__"
      ],
      "execution_count": 4,
      "outputs": [
        {
          "output_type": "execute_result",
          "data": {
            "application/vnd.google.colaboratory.intrinsic+json": {
              "type": "string"
            },
            "text/plain": [
              "'2.5.0'"
            ]
          },
          "metadata": {
            "tags": []
          },
          "execution_count": 4
        }
      ]
    },
    {
      "cell_type": "code",
      "metadata": {
        "colab": {
          "base_uri": "https://localhost:8080/",
          "height": 36
        },
        "id": "zczyZymRS-F1",
        "outputId": "d5d348d1-f595-407e-9e53-f94c84a376b2"
      },
      "source": [
        "tf.keras.__version__"
      ],
      "execution_count": 5,
      "outputs": [
        {
          "output_type": "execute_result",
          "data": {
            "application/vnd.google.colaboratory.intrinsic+json": {
              "type": "string"
            },
            "text/plain": [
              "'2.5.0'"
            ]
          },
          "metadata": {
            "tags": []
          },
          "execution_count": 5
        }
      ]
    },
    {
      "cell_type": "code",
      "metadata": {
        "colab": {
          "base_uri": "https://localhost:8080/"
        },
        "id": "P9bJYuS-TFDx",
        "outputId": "38723363-2ab0-4689-bc31-89f809c9fc42"
      },
      "source": [
        "# Checking GPU\n",
        "tf.config.list_physical_devices(\"GPU\")"
      ],
      "execution_count": 6,
      "outputs": [
        {
          "output_type": "execute_result",
          "data": {
            "text/plain": [
              "[PhysicalDevice(name='/physical_device:GPU:0', device_type='GPU')]"
            ]
          },
          "metadata": {
            "tags": []
          },
          "execution_count": 6
        }
      ]
    },
    {
      "cell_type": "code",
      "metadata": {
        "colab": {
          "base_uri": "https://localhost:8080/"
        },
        "id": "Pxgdn5CNTRvf",
        "outputId": "e1723ffe-763f-40bf-b30d-efc88f220559"
      },
      "source": [
        "# Checking CPU\n",
        "tf.config.list_physical_devices(\"CPU\")"
      ],
      "execution_count": 7,
      "outputs": [
        {
          "output_type": "execute_result",
          "data": {
            "text/plain": [
              "[PhysicalDevice(name='/physical_device:CPU:0', device_type='CPU')]"
            ]
          },
          "metadata": {
            "tags": []
          },
          "execution_count": 7
        }
      ]
    },
    {
      "cell_type": "code",
      "metadata": {
        "colab": {
          "base_uri": "https://localhost:8080/"
        },
        "id": "aJOsF2IPTZz0",
        "outputId": "867f0139-e338-4ffd-d564-902907b00cfe"
      },
      "source": [
        "Checklist=[\"GPU\",\"CPU\"]\n",
        "\n",
        "for device in Checklist:\n",
        "  out=tf.config.list_physical_devices(device)\n",
        "  if len(out)>0:\n",
        "    print(f\"{device} is available\")\n",
        "    print(\"Details :\",out)\n",
        "  else:\n",
        "    print(f\"{device} is not available\")"
      ],
      "execution_count": 8,
      "outputs": [
        {
          "output_type": "stream",
          "text": [
            "GPU is available\n",
            "Details : [PhysicalDevice(name='/physical_device:GPU:0', device_type='GPU')]\n",
            "CPU is available\n",
            "Details : [PhysicalDevice(name='/physical_device:CPU:0', device_type='CPU')]\n"
          ],
          "name": "stdout"
        }
      ]
    },
    {
      "cell_type": "code",
      "metadata": {
        "id": "bK_wj0V_UwsP"
      },
      "source": [
        "import numpy as np\n",
        "\n",
        "import pandas as pd\n",
        "\n",
        "import matplotlib.pyplot as plt\n",
        "import seaborn as sns"
      ],
      "execution_count": 9,
      "outputs": []
    },
    {
      "cell_type": "code",
      "metadata": {
        "colab": {
          "base_uri": "https://localhost:8080/"
        },
        "id": "6wMKiHC8UwzS",
        "outputId": "c32ca35e-c458-4114-de86-ff96a00c0469"
      },
      "source": [
        "mnist=tf.keras.datasets.mnist\n",
        "\n",
        "(X_train_full,y_train_full),(X_test_full,y_test_full)=mnist.load_data()"
      ],
      "execution_count": 10,
      "outputs": [
        {
          "output_type": "stream",
          "text": [
            "Downloading data from https://storage.googleapis.com/tensorflow/tf-keras-datasets/mnist.npz\n",
            "11493376/11490434 [==============================] - 0s 0us/step\n"
          ],
          "name": "stdout"
        }
      ]
    },
    {
      "cell_type": "code",
      "metadata": {
        "colab": {
          "base_uri": "https://localhost:8080/"
        },
        "id": "_Z4eiuk8Uw17",
        "outputId": "85777e45-ffcd-423c-920c-e6b5ed40d081"
      },
      "source": [
        "X_train_full.shape"
      ],
      "execution_count": 11,
      "outputs": [
        {
          "output_type": "execute_result",
          "data": {
            "text/plain": [
              "(60000, 28, 28)"
            ]
          },
          "metadata": {
            "tags": []
          },
          "execution_count": 11
        }
      ]
    },
    {
      "cell_type": "code",
      "metadata": {
        "colab": {
          "base_uri": "https://localhost:8080/"
        },
        "id": "8zrpFstyUw43",
        "outputId": "d5ffeef8-f07a-468a-a1c5-ba4fa0d3dda0"
      },
      "source": [
        "y_train_full.shape"
      ],
      "execution_count": 12,
      "outputs": [
        {
          "output_type": "execute_result",
          "data": {
            "text/plain": [
              "(60000,)"
            ]
          },
          "metadata": {
            "tags": []
          },
          "execution_count": 12
        }
      ]
    },
    {
      "cell_type": "code",
      "metadata": {
        "id": "X8hrCjxdUw7t",
        "colab": {
          "base_uri": "https://localhost:8080/"
        },
        "outputId": "3a2b6b21-04b5-496d-deb0-60b79acb4bae"
      },
      "source": [
        "X_test_full.shape"
      ],
      "execution_count": 13,
      "outputs": [
        {
          "output_type": "execute_result",
          "data": {
            "text/plain": [
              "(10000, 28, 28)"
            ]
          },
          "metadata": {
            "tags": []
          },
          "execution_count": 13
        }
      ]
    },
    {
      "cell_type": "code",
      "metadata": {
        "id": "vOoyKOHZUw-t",
        "colab": {
          "base_uri": "https://localhost:8080/"
        },
        "outputId": "c238da30-8977-43bf-8892-7fc2e60da09d"
      },
      "source": [
        "y_test_full.shape"
      ],
      "execution_count": 14,
      "outputs": [
        {
          "output_type": "execute_result",
          "data": {
            "text/plain": [
              "(10000,)"
            ]
          },
          "metadata": {
            "tags": []
          },
          "execution_count": 14
        }
      ]
    },
    {
      "cell_type": "code",
      "metadata": {
        "id": "ZDXBatx6UxB9",
        "colab": {
          "base_uri": "https://localhost:8080/"
        },
        "outputId": "7792b032-e403-4ee7-db47-9f7a1682ace3"
      },
      "source": [
        "X_train_full.dtype"
      ],
      "execution_count": 15,
      "outputs": [
        {
          "output_type": "execute_result",
          "data": {
            "text/plain": [
              "dtype('uint8')"
            ]
          },
          "metadata": {
            "tags": []
          },
          "execution_count": 15
        }
      ]
    },
    {
      "cell_type": "markdown",
      "metadata": {
        "id": "WFRK8rbFrmHS"
      },
      "source": [
        "\"unit8\" means values are in between 0-2**8 i.e. 0 - 255"
      ]
    },
    {
      "cell_type": "markdown",
      "metadata": {
        "id": "nBAM4CP1r2Ci"
      },
      "source": [
        "- **Scaling to convert int into 0 to 1.**"
      ]
    },
    {
      "cell_type": "markdown",
      "metadata": {
        "id": "kU_Db7LXsjc4"
      },
      "source": [
        "-Top 5000 data of X_train_full are in validation set of X_train_full and the rest of data is in X_train"
      ]
    },
    {
      "cell_type": "code",
      "metadata": {
        "id": "2phkqu54q5N8"
      },
      "source": [
        "X_valid,X_train=X_train_full[:5000]/255. ,X_train_full[5000:]/255.\n",
        "y_valid,y_train=y_train_full[:5000] ,y_train_full[5000:]"
      ],
      "execution_count": 16,
      "outputs": []
    },
    {
      "cell_type": "code",
      "metadata": {
        "colab": {
          "base_uri": "https://localhost:8080/",
          "height": 266
        },
        "id": "6VeTFQK6smmJ",
        "outputId": "3f7938f7-fa82-4645-db50-75b608bc8444"
      },
      "source": [
        "plt.imshow(X_train[50],cmap=\"binary\")\n",
        "plt.axis(\"off\") #Off the axes shown"
      ],
      "execution_count": 17,
      "outputs": [
        {
          "output_type": "execute_result",
          "data": {
            "text/plain": [
              "(-0.5, 27.5, 27.5, -0.5)"
            ]
          },
          "metadata": {
            "tags": []
          },
          "execution_count": 17
        },
        {
          "output_type": "display_data",
          "data": {
            "image/png": "[encoded data removed]",
            "text/plain": [
              "<Figure size 432x288 with 1 Axes>"
            ]
          },
          "metadata": {
            "tags": [],
            "needs_background": "light"
          }
        }
      ]
    },
    {
      "cell_type": "code",
      "metadata": {
        "colab": {
          "base_uri": "https://localhost:8080/",
          "height": 885
        },
        "id": "mVK7n_2Pt-En",
        "outputId": "ab26f26d-f104-4271-a5d9-2e5e62bf42ca"
      },
      "source": [
        "# Visualizing pixel values using Heatmaps\n",
        "plt.figure(figsize=(15,15))\n",
        "sns.heatmap(X_train[50],annot=True,cmap=\"binary\") #Annot represents all values"
      ],
      "execution_count": 18,
      "outputs": [
        {
          "output_type": "execute_result",
          "data": {
            "text/plain": [
              "<matplotlib.axes._subplots.AxesSubplot at 0x7fc05035da10>"
            ]
          },
          "metadata": {
            "tags": []
          },
          "execution_count": 18
        },
        {
          "output_type": "display_data",
          "data": {
            "image/png": "[encoded data removed]",
            "text/plain": [
              "<Figure size 1080x1080 with 2 Axes>"
            ]
          },
          "metadata": {
            "tags": [],
            "needs_background": "light"
          }
        }
      ]
    },
    {
      "cell_type": "code",
      "metadata": {
        "id": "ncp2E0axvRju"
      },
      "source": [
        "LAYERS=[tf.keras.layers.Flatten(input_shape=[28,28],name=\"InputLayer\"),\n",
        "        tf.keras.layers.Dense(300,activation=\"relu\",name=\"HiddenLayer_1\"),\n",
        "        tf.keras.layers.Dense(100,activation=\"relu\",name=\"HiddenLayer_2\"),\n",
        "        tf.keras.layers.Dense(10,activation=\"softmax\",name=\"OutputLayer\")]"
      ],
      "execution_count": 19,
      "outputs": []
    },
    {
      "cell_type": "code",
      "metadata": {
        "id": "jkUCGrvWxfRI"
      },
      "source": [
        "# Defining model classifier\n",
        "model_clf=tf.keras.models.Sequential(LAYERS)"
      ],
      "execution_count": 20,
      "outputs": []
    },
    {
      "cell_type": "code",
      "metadata": {
        "colab": {
          "base_uri": "https://localhost:8080/"
        },
        "id": "CUigKNsPz3SB",
        "outputId": "7a18915c-67fc-4f81-c3d5-7aa01e7ff18b"
      },
      "source": [
        "model_clf.layers"
      ],
      "execution_count": 21,
      "outputs": [
        {
          "output_type": "execute_result",
          "data": {
            "text/plain": [
              "[<tensorflow.python.keras.layers.core.Flatten at 0x7fc0475675d0>,\n",
              " <tensorflow.python.keras.layers.core.Dense at 0x7fc046f50150>,\n",
              " <tensorflow.python.keras.layers.core.Dense at 0x7fc046f509d0>,\n",
              " <tensorflow.python.keras.layers.core.Dense at 0x7fc047527a50>]"
            ]
          },
          "metadata": {
            "tags": []
          },
          "execution_count": 21
        }
      ]
    },
    {
      "cell_type": "code",
      "metadata": {
        "colab": {
          "base_uri": "https://localhost:8080/"
        },
        "id": "hUYwFdDt0bjo",
        "outputId": "311a35e1-9098-4e07-cf11-a408040758ba"
      },
      "source": [
        "model_clf.summary()"
      ],
      "execution_count": 22,
      "outputs": [
        {
          "output_type": "stream",
          "text": [
            "Model: \"sequential\"\n",
            "_________________________________________________________________\n",
            "Layer (type)                 Output Shape              Param #   \n",
            "=================================================================\n",
            "InputLayer (Flatten)         (None, 784)               0         \n",
            "_________________________________________________________________\n",
            "HiddenLayer_1 (Dense)        (None, 300)               235500    \n",
            "_________________________________________________________________\n",
            "HiddenLayer_2 (Dense)        (None, 100)               30100     \n",
            "_________________________________________________________________\n",
            "OutputLayer (Dense)          (None, 10)                1010      \n",
            "=================================================================\n",
            "Total params: 266,610\n",
            "Trainable params: 266,610\n",
            "Non-trainable params: 0\n",
            "_________________________________________________________________\n"
          ],
          "name": "stdout"
        }
      ]
    },
    {
      "cell_type": "code",
      "metadata": {
        "colab": {
          "base_uri": "https://localhost:8080/"
        },
        "id": "RgGlXumw0bgS",
        "outputId": "84e8f504-b81f-4e61-a094-8f5dbe132b43"
      },
      "source": [
        "# No of paramerters\n",
        "print(\"Parameter in 1st hidden layer :\",784*300+300)\n",
        "print(\"Parameter in 2nd hidden layer :\",300*100+100)\n",
        "print(\"Parameter in last layer :\",10*100+10)\n",
        "print(\"\\n\")\n",
        "print(\"Total no of parameters :\",784*300+300 + 300*100+100 + 10*100+10)"
      ],
      "execution_count": 23,
      "outputs": [
        {
          "output_type": "stream",
          "text": [
            "Parameter in 1st hidden layer : 235500\n",
            "Parameter in 2nd hidden layer : 30100\n",
            "Parameter in last layer : 1010\n",
            "\n",
            "\n",
            "Total no of parameters : 266610\n"
          ],
          "name": "stdout"
        }
      ]
    },
    {
      "cell_type": "code",
      "metadata": {
        "id": "L60Y_ahq0bXI"
      },
      "source": [
        ""
      ],
      "execution_count": 23,
      "outputs": []
    },
    {
      "cell_type": "code",
      "metadata": {
        "id": "Csp9w3fK0bTo"
      },
      "source": [
        ""
      ],
      "execution_count": 23,
      "outputs": []
    },
    {
      "cell_type": "code",
      "metadata": {
        "id": "HDjaT5XF0ZRl"
      },
      "source": [
        ""
      ],
      "execution_count": 23,
      "outputs": []
    }
  ]
}